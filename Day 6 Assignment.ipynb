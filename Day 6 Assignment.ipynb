{
 "cells": [
  {
   "cell_type": "markdown",
   "metadata": {},
   "source": [
    "# Question 1 :\n",
    "# List1 = [1,2,3,4,5,7,8]   List2 = [“a”, “b”, “c”, “d”, “e”]\n",
    "# Convert to a dictionary in one line code using list comprehension (without using zip method)"
   ]
  },
  {
   "cell_type": "code",
   "execution_count": 12,
   "metadata": {},
   "outputs": [
    {
     "name": "stdout",
     "output_type": "stream",
     "text": [
      "{1: 'a', 2: 'b', 3: 'c', 4: 'd'} \n",
      " <class 'dict'>\n"
     ]
    }
   ],
   "source": [
    "list01=[1,2,3,4,5,6,7,8]\n",
    "list02=[\"a\",\"b\",\"c\",\"d\"]\n",
    "len1=min(len(list01),len(list02))\n",
    "dic={list01[each]:list02[each] for each in range(len1)}\n",
    "# for each in range(len1):\n",
    "#     dic[list01[each]]=list02[each]\n",
    "print(dic,\"\\n\",type(dic)) \n"
   ]
  }
 ],
 "metadata": {
  "kernelspec": {
   "display_name": "Python 3",
   "language": "python",
   "name": "python3"
  },
  "language_info": {
   "codemirror_mode": {
    "name": "ipython",
    "version": 3
   },
   "file_extension": ".py",
   "mimetype": "text/x-python",
   "name": "python",
   "nbconvert_exporter": "python",
   "pygments_lexer": "ipython3",
   "version": "3.7.6"
  }
 },
 "nbformat": 4,
 "nbformat_minor": 4
}
