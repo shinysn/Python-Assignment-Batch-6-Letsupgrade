{
 "cells": [
  {
   "cell_type": "markdown",
   "metadata": {},
   "source": [
    "# Question 1 : Find sum of n numbers with help of while loop."
   ]
  },
  {
   "cell_type": "code",
   "execution_count": 23,
   "metadata": {},
   "outputs": [
    {
     "name": "stdout",
     "output_type": "stream",
     "text": [
      "Enter value of n:10\n",
      "Sum of n number is  55\n"
     ]
    }
   ],
   "source": [
    "n=int(input(\"Enter value of n:\"))\n",
    "i=1\n",
    "sum=0\n",
    "while(i<=n):\n",
    "    sum=sum+i\n",
    "    i=1+i\n",
    "print(\"Sum of n number is \",sum)"
   ]
  },
  {
   "cell_type": "markdown",
   "metadata": {},
   "source": [
    "# Question 2 : Take an integer and find whether the number is prime or not"
   ]
  },
  {
   "cell_type": "code",
   "execution_count": 37,
   "metadata": {},
   "outputs": [
    {
     "name": "stdout",
     "output_type": "stream",
     "text": [
      "Enter testcases no:2\n",
      "\n",
      "Testcase 1\n",
      "\tEnter any number:12\n",
      "\t12 is not a prime number\n",
      "\n",
      "Testcase 2\n",
      "\tEnter any number:23\n",
      "\t23 is a prime number\n",
      "\n",
      "\n",
      "\t*****The end*****\n"
     ]
    }
   ],
   "source": [
    "tc=int(input(\"Enter testcases no:\"))\n",
    "no=1\n",
    "while(tc>0): \n",
    "    print(f\"\\nTestcase {no}\")\n",
    "    p=int(input(\"\\tEnter any number:\"))\n",
    "    num=p//2\n",
    "    flag=1\n",
    "    for i in range(2,num):\n",
    "        if(p%i==0):\n",
    "            flag=0\n",
    "    if(flag==0):\n",
    "        print(f\"\\t{p} is not a prime number\")\n",
    "    else:\n",
    "        print(f\"\\t{p} is a prime number\")\n",
    "    no+=1\n",
    "    tc-=1\n",
    "print(\"\\n\\n\\t*****The end*****\")"
   ]
  }
 ],
 "metadata": {
  "kernelspec": {
   "display_name": "Python 3",
   "language": "python",
   "name": "python3"
  },
  "language_info": {
   "codemirror_mode": {
    "name": "ipython",
    "version": 3
   },
   "file_extension": ".py",
   "mimetype": "text/x-python",
   "name": "python",
   "nbconvert_exporter": "python",
   "pygments_lexer": "ipython3",
   "version": "3.7.6"
  }
 },
 "nbformat": 4,
 "nbformat_minor": 4
}
