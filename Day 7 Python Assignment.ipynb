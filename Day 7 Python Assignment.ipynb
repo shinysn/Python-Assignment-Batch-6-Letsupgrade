{
 "cells": [
  {
   "cell_type": "markdown",
   "metadata": {},
   "source": [
    "# Question 1 : Use the dictionary,  \n",
    "# port1 = {21: \"FTP\", 22:\"SSH\", 23: \"telnet\", 80: \"http\"}, and make a new dictionary in which keys become values and values become keys, as shown: \n",
    "# Port2 = {“FTP\":21, \"SSH\":22, “telnet\":23,\"http\": 80}"
   ]
  },
  {
   "cell_type": "code",
   "execution_count": 45,
   "metadata": {},
   "outputs": [
    {
     "name": "stdout",
     "output_type": "stream",
     "text": [
      "\n",
      "PORT 1\n",
      "\t {21: 'FTP', 22: 'SSH', 23: 'telnet', 80: 'http'} \n",
      "\t <class 'dict'>\n",
      "\n",
      "PORT 2\n",
      "\t {'FTP': 21, 'SSH': 22, 'telnet': 23, 'http': 80} \n",
      "\t <class 'dict'>\n"
     ]
    }
   ],
   "source": [
    "#method 1\n",
    "port1 = {21: \"FTP\", 22:\"SSH\", 23: \"telnet\", 80: \"http\"}\n",
    "\n",
    "l1_keys=list(port1.keys())\n",
    "l2_values=list(port1.values())\n",
    "\n",
    "port2={l2_values[each]:l1_keys[each]  for each in range(len_dic)}\n",
    "\n",
    "print (\"\\nPORT 1:\\n\\t\",port1,\"\\n\\t\",type(port1))\n",
    "print (\"\\nPORT 2:\\n\\t\",port2,\"\\n\\t\",type(port2))"
   ]
  },
  {
   "cell_type": "code",
   "execution_count": 63,
   "metadata": {},
   "outputs": [
    {
     "name": "stdout",
     "output_type": "stream",
     "text": [
      "\n",
      "PORT 1:\n",
      "\t {21: 'FTP', 22: 'SSH', 23: 'telnet', 80: 'http'} \n",
      "\t <class 'dict'>\n",
      "\n",
      "PORT 2:\n",
      "\t {'FTP': 21, 'SSH': 22, 'telnet': 23, 'http': 80} \n",
      "\t <class 'dict'>\n"
     ]
    }
   ],
   "source": [
    "#method 2\n",
    "port1 = {21: \"FTP\", 22:\"SSH\", 23: \"telnet\", 80: \"http\"} \n",
    "  \n",
    "port2 = dict(([(value, key) for key, value in old_dict.items()])) \n",
    "    \n",
    "print (\"\\nPORT 1:\\n\\t\",port1,\"\\n\\t\",type(port1))\n",
    "print (\"\\nPORT 2:\\n\\t\",port2,\"\\n\\t\",type(port2))"
   ]
  },
  {
   "cell_type": "markdown",
   "metadata": {},
   "source": [
    "# Question 2 :Take a list of tuple as shown below.\n",
    "# [(1,2), (3,4), (5,6),(4,5)]\n",
    "# Make a new list which contains the sum of the number of tuples.\n",
    "# For example Input:- [(1,2), (3,4), (5,6)] Output:- [3, 7, 11]"
   ]
  },
  {
   "cell_type": "code",
   "execution_count": 33,
   "metadata": {},
   "outputs": [
    {
     "name": "stdout",
     "output_type": "stream",
     "text": [
      "\n",
      "Sum od the tuple values\n",
      "[3, 7, 11, 9] \n",
      " <class 'list'>\n"
     ]
    }
   ],
   "source": [
    "list_of_tuple=[(1,2), (3,4), (5,6),(4,5)]\n",
    "new_list=[]\n",
    "len1=len(list_of_tuple)\n",
    "for each in range(len1):\n",
    "    a,b=list_of_tuple[each]\n",
    "    new_list.append(a+b)\n",
    "print(\"\\nSum od the tuple values\")\n",
    "print(new_list,\"\\n\",type(new_list))"
   ]
  },
  {
   "cell_type": "markdown",
   "metadata": {},
   "source": [
    "# Question 3: Take a list as shown below\n",
    "# [(1,2,3), [1,2], ['a','hit','less']]\n",
    "# The List contains tuple and lists. Make the elements of inner lists and tuples to outer list\n"
   ]
  },
  {
   "cell_type": "code",
   "execution_count": 31,
   "metadata": {},
   "outputs": [
    {
     "name": "stdout",
     "output_type": "stream",
     "text": [
      "\n",
      "List contains tuple and lists\n",
      "\n",
      "[(1, 2, 3), [1, 2], ['a', 'hit', 'less']]\n",
      "\n",
      "Converting the elements of inner lists and tuples to outer list\n",
      "\n",
      "[1, 2, 3, 1, 2, 'a', 'hit', 'less']\n"
     ]
    }
   ],
   "source": [
    "list1=[(1,2,3), [1,2], ['a','hit','less']]\n",
    "print(\"\\nList contains tuple and lists\\n\")\n",
    "print(list1)\n",
    "list2=[i for each in list1 for i in each]\n",
    "print(\"\\nConverting the elements of inner lists and tuples to outer list\\n\")\n",
    "print(list2)\n"
   ]
  },
  {
   "cell_type": "code",
   "execution_count": null,
   "metadata": {},
   "outputs": [],
   "source": []
  }
 ],
 "metadata": {
  "kernelspec": {
   "display_name": "Python 3",
   "language": "python",
   "name": "python3"
  },
  "language_info": {
   "codemirror_mode": {
    "name": "ipython",
    "version": 3
   },
   "file_extension": ".py",
   "mimetype": "text/x-python",
   "name": "python",
   "nbconvert_exporter": "python",
   "pygments_lexer": "ipython3",
   "version": "3.7.6"
  }
 },
 "nbformat": 4,
 "nbformat_minor": 4
}
