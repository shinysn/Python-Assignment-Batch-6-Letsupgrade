{
 "cells": [
  {
   "cell_type": "markdown",
   "metadata": {},
   "source": [
    "# Question 1 : Use the dictionary,  \n",
    "# port1 = {21: \"FTP\", 22:\"SSH\", 23: \"telnet\", 80: \"http\"}, and make a new dictionary in which keys become values and values become keys, as shown: \n",
    "# Port2 = {“FTP\":21, \"SSH\":22, “telnet\":23,\"http\": 80}"
   ]
  },
  {
   "cell_type": "code",
   "execution_count": 45,
   "metadata": {},
   "outputs": [
    {
     "name": "stdout",
     "output_type": "stream",
     "text": [
      "\n",
      "PORT 1\n",
      "\t {21: 'FTP', 22: 'SSH', 23: 'telnet', 80: 'http'} \n",
      "\t <class 'dict'>\n",
      "\n",
      "PORT 2\n",
      "\t {'FTP': 21, 'SSH': 22, 'telnet': 23, 'http': 80} \n",
      "\t <class 'dict'>\n"
     ]
    }
   ],
   "source": [
    "port1 = {21: \"FTP\", 22:\"SSH\", 23: \"telnet\", 80: \"http\"}\n",
    "\n",
    "l1_keys=list(port1.keys())\n",
    "l2_values=list(port1.values())\n",
    "\n",
    "port2={l2_values[each]:l1_keys[each]  for each in range(len_dic)}\n",
    "\n",
    "print (\"\\nPORT 1:\\n\\t\",port1,\"\\n\\t\",type(port1))\n",
    "print (\"\\nPORT 2:\\n\\t\",port2,\"\\n\\t\",type(port2))"
   ]
  },
  {
   "cell_type": "code",
   "execution_count": 63,
   "metadata": {},
   "outputs": [
    {
     "name": "stdout",
     "output_type": "stream",
     "text": [
      "\n",
      "PORT 1:\n",
      "\t {21: 'FTP', 22: 'SSH', 23: 'telnet', 80: 'http'} \n",
      "\t <class 'dict'>\n",
      "\n",
      "PORT 2:\n",
      "\t {'FTP': 21, 'SSH': 22, 'telnet': 23, 'http': 80} \n",
      "\t <class 'dict'>\n"
     ]
    }
   ],
   "source": [
    "port1 = {21: \"FTP\", 22:\"SSH\", 23: \"telnet\", 80: \"http\"} \n",
    "  \n",
    "port2 = dict(([(value, key) for key, value in old_dict.items()])) \n",
    "    \n",
    "print (\"\\nPORT 1:\\n\\t\",port1,\"\\n\\t\",type(port1))\n",
    "print (\"\\nPORT 2:\\n\\t\",port2,\"\\n\\t\",type(port2))"
   ]
  }
 ],
 "metadata": {
  "kernelspec": {
   "display_name": "Python 3",
   "language": "python",
   "name": "python3"
  },
  "language_info": {
   "codemirror_mode": {
    "name": "ipython",
    "version": 3
   },
   "file_extension": ".py",
   "mimetype": "text/x-python",
   "name": "python",
   "nbconvert_exporter": "python",
   "pygments_lexer": "ipython3",
   "version": "3.7.6"
  }
 },
 "nbformat": 4,
 "nbformat_minor": 4
}
