{
 "cells": [
  {
   "cell_type": "markdown",
   "metadata": {},
   "source": [
    "# [0,1,2,10,4,1,0,56,2,0,1,3,0,56,0,4]\n",
    "# Sort by increasing order but all zeros should be at the right hand side."
   ]
  },
  {
   "cell_type": "code",
   "execution_count": 18,
   "metadata": {},
   "outputs": [
    {
     "name": "stdout",
     "output_type": "stream",
     "text": [
      "[1, 1, 1, 2, 2, 3, 4, 4, 10, 56, 56, 0, 0, 0, 0, 0]\n"
     ]
    }
   ],
   "source": [
    "nums=[0,1,2,10,4,1,0,56,2,0,1,3,0,56,0,4]\n",
    "nums.sort()\n",
    "for i in range(len(nums)):\n",
    "    if nums[0]==0:\n",
    "        nums.append(nums.pop(0))\n",
    "print(nums)"
   ]
  },
  {
   "cell_type": "markdown",
   "metadata": {},
   "source": [
    "# list1=[10,20,40,60,70,80]  list2=[5,15,25,35,45,60] \n",
    "# Merge these two sorted lists to produce one sorted list, but use only loop either while or for only one time."
   ]
  },
  {
   "cell_type": "code",
   "execution_count": 19,
   "metadata": {},
   "outputs": [
    {
     "name": "stdout",
     "output_type": "stream",
     "text": [
      "Original list:  [10, 20, 40, 60, 70, 80, 5, 15, 25, 35, 45, 60]\n",
      "Sorted list:  [5, 10, 15, 20, 25, 35, 40, 45, 60, 60, 70, 80]\n"
     ]
    }
   ],
   "source": [
    "def sortArrays(arr): \n",
    "    length = len(arr) \n",
    "    j = 0\n",
    "    while j < length - 1: \n",
    "        if (arr[j] > arr[j + 1]): \n",
    "            temp = arr[j] \n",
    "            arr[j] = arr[j + 1] \n",
    "            arr[j + 1] = temp \n",
    "            j = -1\n",
    "        j += 1\n",
    "    return arr \n",
    "  \n",
    "      \n",
    "list1=[10,20,40,60,70,80] \n",
    "list2=[5,15,25,35,45,60]\n",
    "arr=list1+list2\n",
    "print(\"Original list: \", arr) \n",
    "arr = sortArrays(arr) \n",
    "print(\"Sorted list: \", arr) \n",
    "  \n"
   ]
  },
  {
   "cell_type": "code",
   "execution_count": null,
   "metadata": {},
   "outputs": [],
   "source": []
  }
 ],
 "metadata": {
  "kernelspec": {
   "display_name": "Python 3",
   "language": "python",
   "name": "python3"
  },
  "language_info": {
   "codemirror_mode": {
    "name": "ipython",
    "version": 3
   },
   "file_extension": ".py",
   "mimetype": "text/x-python",
   "name": "python",
   "nbconvert_exporter": "python",
   "pygments_lexer": "ipython3",
   "version": "3.7.6"
  }
 },
 "nbformat": 4,
 "nbformat_minor": 4
}
